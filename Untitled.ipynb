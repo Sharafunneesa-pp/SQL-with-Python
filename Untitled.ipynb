{
 "cells": [
  {
   "cell_type": "code",
   "execution_count": 30,
   "id": "0c57063c",
   "metadata": {},
   "outputs": [],
   "source": [
    "# !pip install mysql-connector-python\n",
    "\n"
   ]
  },
  {
   "cell_type": "code",
   "execution_count": 31,
   "id": "ab2374ca",
   "metadata": {},
   "outputs": [],
   "source": [
    "import mysql.connector\n",
    "from mysql.connector import Error\n",
    "import pandas as pd"
   ]
  },
  {
   "cell_type": "code",
   "execution_count": 32,
   "id": "a992a8bf",
   "metadata": {},
   "outputs": [],
   "source": [
    "def create_server_connection(host_name,user_name,password):\n",
    "    connection=None\n",
    "    try:\n",
    "        connection=mysql.connector.connect(\n",
    "            host=host_name,\n",
    "            user=user_name,\n",
    "            passwd=password\n",
    "        )\n",
    "        print(\"Server connection successfull\")\n",
    "    except Error as err:\n",
    "        print(f\"Error:'{err}'\")\n",
    "    return connection"
   ]
  },
  {
   "cell_type": "code",
   "execution_count": 33,
   "id": "53bd9d01",
   "metadata": {},
   "outputs": [
    {
     "name": "stdout",
     "output_type": "stream",
     "text": [
      "Server connection successfull\n"
     ]
    }
   ],
   "source": [
    "pw=\"new_password\"\n",
    "connection=create_server_connection(\"localhost\",\"root\",pw)"
   ]
  },
  {
   "cell_type": "code",
   "execution_count": 34,
   "id": "34f17c8d",
   "metadata": {},
   "outputs": [],
   "source": [
    "#create mysql python\n",
    "def create_database(connection,query):\n",
    "    cursor=connection.cursor()\n",
    "    try:\n",
    "        cursor.execute(query)\n",
    "        print(\"Database created Successfully\")\n",
    "    except Error as err:\n",
    "        print(f\"Error:'{err}'\")\n"
   ]
  },
  {
   "cell_type": "code",
   "execution_count": 35,
   "id": "eb4e8ea7",
   "metadata": {},
   "outputs": [
    {
     "name": "stdout",
     "output_type": "stream",
     "text": [
      "Error:'1007 (HY000): Can't create database 'mysql_python'; database exists'\n"
     ]
    }
   ],
   "source": [
    "query=\"create database mysql_python\"\n",
    "create_database(connection,query)"
   ]
  },
  {
   "cell_type": "code",
   "execution_count": 36,
   "id": "a02ec11d",
   "metadata": {},
   "outputs": [],
   "source": [
    "def create_db_connection(host_name,user_name,password,db_name):\n",
    "    connection=None\n",
    "    try:\n",
    "        connection=mysql.connector.connect(\n",
    "            host=host_name,\n",
    "            user=user_name,\n",
    "            passwd=password,\n",
    "            database=db_name\n",
    "        )\n",
    "        print(\"MYSQL Database connection successfull\")\n",
    "    except Error as err:\n",
    "        print(f\"Error:'{err}'\")\n",
    "    return connection"
   ]
  },
  {
   "cell_type": "code",
   "execution_count": 37,
   "id": "319ea18e",
   "metadata": {},
   "outputs": [
    {
     "name": "stdout",
     "output_type": "stream",
     "text": [
      "MYSQL Database connection successfull\n"
     ]
    }
   ],
   "source": [
    "pw=\"new_password\"\n",
    "\n",
    "connection=create_db_connection(\"localhost\",\"root\",pw,\"mysql_python\")"
   ]
  },
  {
   "cell_type": "code",
   "execution_count": 38,
   "id": "ddd6068e",
   "metadata": {},
   "outputs": [],
   "source": [
    "#execute sql queries\n",
    "def execute_query(connection,query):\n",
    "    cursor=connection.cursor()\n",
    "    try:\n",
    "        cursor.execute(query)\n",
    "        connection.commit()\n",
    "        print(\"Query Successfull\")\n",
    "    except Error as err:\n",
    "        print(f\"Error:'{err}'\")\n",
    "    "
   ]
  },
  {
   "cell_type": "code",
   "execution_count": null,
   "id": "2f1ab354",
   "metadata": {},
   "outputs": [],
   "source": [
    "query=\"\"\" create table orders(order_id int primary key,\n",
    "customer_name varchar(30) not null,\n",
    "product_name varchar(20) not null,\n",
    "date_ordered date,\n",
    "quantity int,\n",
    "unit_price float,\n",
    "phone_number varchar(20));\"\"\"\n",
    "execute_query"
   ]
  }
 ],
 "metadata": {
  "kernelspec": {
   "display_name": "Python 3 (ipykernel)",
   "language": "python",
   "name": "python3"
  },
  "language_info": {
   "codemirror_mode": {
    "name": "ipython",
    "version": 3
   },
   "file_extension": ".py",
   "mimetype": "text/x-python",
   "name": "python",
   "nbconvert_exporter": "python",
   "pygments_lexer": "ipython3",
   "version": "3.11.5"
  }
 },
 "nbformat": 4,
 "nbformat_minor": 5
}
